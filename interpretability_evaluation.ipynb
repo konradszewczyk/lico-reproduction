{
 "cells": [
  {
   "cell_type": "code",
   "execution_count": null,
   "outputs": [],
   "source": [
    "import os\n",
    "import sys\n",
    "\n",
    "from eval import salience_equivariance_score, segmentation_content_heatmap, multi_object_salience_uniformity\n",
    "from types import SimpleNamespace"
   ],
   "metadata": {
    "collapsed": false,
    "pycharm": {
     "name": "#%%\n"
    }
   }
  },
  {
   "cell_type": "markdown",
   "source": [
    "## Introduction\n",
    "\n",
    "The following cells contain the code allowing for replicating the evaluation results obtained for the extended evaluation of model interpretability in our reproduction of LICO paper. Examples of model checkpoint file can be downloaded from (the entire .ckpt file must be downloaded):\n",
    "- [ResNet18 baseline](https://drive.google.com/file/d/1UhT2BxxjZipG5FJJ4A5-GN1o_7v6CQ8R/view?usp=sharing)\n",
    "- [ResNet18 + LICO](https://drive.google.com/file/d/1a3RUseiCLeZQgf9U5QJ8jK5iW3VK7Bl6/view?usp=sharing)\n",
    "- [ResNet18 + only MM loss](https://drive.google.com/file/d/1CID-NWYyM6vse3iy4E32kYILxD7MBdxm/view?usp=sharing)\n",
    "- [ResNet18 + only OT loss](https://drive.google.com/file/d/1zIFnZEQHAuY8CUOZHulOmr_gIpmFW85N/view?usp=sharing)\n",
    "- [ResNet18 + LICO with class tokens at the front of the prompt](https://drive.google.com/file/d/1LSDx8-QVazENV7P8hfQlJDeX9H9AeA0L/view?usp=sharing)\n",
    "- [ResNet18 + LICO with trainable context tokens separate between classes](https://drive.google.com/file/d/1l76iUfXKp2y4OCsemjUIbN7nA6Pg12sw/view?usp=sharing)\n",
    "\n",
    "The below setup has be configured to work with CIFAR-100 (only SES) and ImageNet-S_$_{50}$ (all metrics). The latter dataset can be downloaded using https://github.com/LUSSeg/ImageNet-S and is expected to include the following folders:\n",
    "- validation (renamed to \"val\") - validation data from ImageNet-S_$_{50}$ in ImageFolder-compliant folder structure\n",
    "- validation-segmentation - segmentation masks for validation set\n",
    "- annotations/val - folder with bounding box information (not provided by ImageNet-S_$_{50}$, has to be manually downloaded from full ImageNet1k)"
   ],
   "metadata": {
    "collapsed": false,
    "pycharm": {
     "name": "#%% md\n"
    }
   }
  },
  {
   "cell_type": "markdown",
   "source": [
    "## Interpretability metrics\n",
    "### SES (Salience Equivariance Score)"
   ],
   "metadata": {
    "collapsed": false,
    "pycharm": {
     "name": "#%% md\n"
    }
   }
  },
  {
   "cell_type": "code",
   "execution_count": null,
   "outputs": [],
   "source": [
    "experiment_args = SimpleNamespace()\n",
    "\n",
    "experiment_args.pretrained = False # whether to use pretrained model\n",
    "experiment_args.ckpt_path = \"checkpoint/final_models/imagenet_baseline_2.ckpt\" # path to the model checkpoint file\n",
    "experiment_args.dataset = \"ImageNetS50\" # name of the data folder with the following path \"data/{dataset}/val\"\n",
    "experiment_args.save_dir = \"imagenet_baseline_2\" # folder to save the results: \"consistency-output/{save_dir}\""
   ],
   "metadata": {
    "collapsed": false,
    "pycharm": {
     "name": "#%%\n"
    }
   }
  },
  {
   "cell_type": "code",
   "execution_count": null,
   "outputs": [],
   "source": [
    "salience_equivariance_score(experiment_args)"
   ],
   "metadata": {
    "collapsed": false,
    "pycharm": {
     "name": "#%%\n"
    }
   }
  },
  {
   "cell_type": "markdown",
   "source": [
    "### SCH (Segmentation Content Heatmap)"
   ],
   "metadata": {
    "collapsed": false,
    "pycharm": {
     "name": "#%% md\n"
    }
   }
  },
  {
   "cell_type": "code",
   "execution_count": null,
   "outputs": [],
   "source": [
    "experiment_args = SimpleNamespace()\n",
    "\n",
    "experiment_args.cam = \"grad-cam\" # post-hoc explainability method, currently supported: grad-cam\n",
    "experiment_args.pretrained = False # whether to use pretrained model\n",
    "experiment_args.ckpt_path = \"checkpoint/final_models/imagenet_baseline_2.ckpt\" # path to the model checkpoint file\n",
    "experiment_args.training_method = \"baseline\" # training method used to train the above model\n",
    "experiment_args.arch = \"resnet18\" # architecture of the above model, currently supported: resnet18\n",
    "\n",
    "experiment_args.dataset = \"imagenet-s50\" # type of the dataset used, currently supported: imagenet-s50\"\n",
    "experiment_args.img_data = \"data/ImageNetS50/val\" # path to the folder with validation images following ImageFolder dataset structure\n",
    "experiment_args.seg_data = \"data/ImageNetS50/validation-segmentation\" # path to the folder with segmentation masks with similar structure\n",
    "experiment_args.save_output = \"evaluation_output/imagenet_baseline_2\" # path to save the results"
   ],
   "metadata": {
    "collapsed": false,
    "pycharm": {
     "name": "#%%\n"
    }
   }
  },
  {
   "cell_type": "code",
   "execution_count": null,
   "outputs": [],
   "source": [
    "segmentation_content_heatmap(experiment_args)"
   ],
   "metadata": {
    "collapsed": false,
    "pycharm": {
     "name": "#%%\n"
    }
   }
  },
  {
   "cell_type": "markdown",
   "source": [
    "### MOSU (Multi-Object Salience Uniformity)"
   ],
   "metadata": {
    "collapsed": false,
    "pycharm": {
     "name": "#%% md\n"
    }
   }
  },
  {
   "cell_type": "code",
   "execution_count": null,
   "outputs": [],
   "source": [
    "experiment_args = SimpleNamespace()\n",
    "\n",
    "experiment_args.cam = \"grad-cam\" # post-hoc explainability method, currently supported: grad-cam\n",
    "experiment_args.pretrained = False # whether to use pretrained model\n",
    "experiment_args.ckpt_path = \"checkpoint/final_models/imagenet_baseline_2.ckpt\" # path to the model checkpoint file\n",
    "experiment_args.training_method = \"baseline\" # training method used to train the above model\n",
    "experiment_args.arch = \"resnet18\" # architecture of the above model, currently supported: resnet18\n",
    "\n",
    "experiment_args.dataset = \"imagenet-s50\" # type of the dataset used, currently supported: imagenet-s50\"\n",
    "experiment_args.img_data = \"data/ImageNetS50/val\" # path to the folder with validation images following ImageFolder dataset structure\n",
    "experiment_args.annotation_data = \"data/ImageNetS50/annotations/val\" # path to the folder with bounding box information in the format of ImageNet1k\n",
    "experiment_args.save_output = \"evaluation_output/imagenet_baseline_2\" # path to save the results "
   ],
   "metadata": {
    "collapsed": false,
    "pycharm": {
     "name": "#%%\n"
    }
   }
  },
  {
   "cell_type": "code",
   "execution_count": null,
   "outputs": [],
   "source": [
    "multi_object_salience_uniformity(experiment_args)"
   ],
   "metadata": {
    "collapsed": false,
    "pycharm": {
     "name": "#%%\n"
    }
   }
  },
  {
   "cell_type": "code",
   "execution_count": null,
   "outputs": [],
   "source": [],
   "metadata": {
    "collapsed": false,
    "pycharm": {
     "name": "#%%\n"
    }
   }
  },
  {
   "cell_type": "code",
   "execution_count": null,
   "metadata": {
    "pycharm": {
     "name": "#%%\n"
    }
   },
   "outputs": [],
   "source": []
  }
 ],
 "metadata": {
  "kernelspec": {
   "display_name": "Python 3 (ipykernel)",
   "language": "python",
   "name": "python3"
  },
  "language_info": {
   "codemirror_mode": {
    "name": "ipython",
    "version": 3
   },
   "file_extension": ".py",
   "mimetype": "text/x-python",
   "name": "python",
   "nbconvert_exporter": "python",
   "pygments_lexer": "ipython3",
   "version": "3.11.5"
  }
 },
 "nbformat": 4,
 "nbformat_minor": 4
}